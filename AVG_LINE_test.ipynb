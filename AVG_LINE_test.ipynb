{
 "cells": [
  {
   "cell_type": "code",
   "execution_count": 1,
   "id": "04e45d85",
   "metadata": {},
   "outputs": [],
   "source": [
    "import pandas as pd \n",
    "import numpy as np \n",
    "import matplotlib.pyplot as plt\n",
    "import tushare as ts"
   ]
  },
  {
   "cell_type": "code",
   "execution_count": 2,
   "id": "9dfbcd67",
   "metadata": {},
   "outputs": [],
   "source": [
    "#交易期\n",
    "trade_start_date = '20140101' \n",
    "trade_end_date = '20211227'\n",
    "#股票代码\n",
    "#ts_code = '600050.SH'\n",
    "pro = ts.pro_api()\n",
    "#hgt_ts_code = pro.hs_const(hs_type='SH')\n",
    "sgt_ts_code = pro.hs_const(hs_type='SZ')\n",
    "\n",
    "th_h = 20\n",
    "th_m = 10\n",
    "th_l = 5"
   ]
  },
  {
   "cell_type": "code",
   "execution_count": 23,
   "id": "65be93bc",
   "metadata": {},
   "outputs": [],
   "source": [
    "def smaCal(tsPrice,k): #简单平均\n",
    "    Sma = pd.Series(0.0,index=tsPrice.index)\n",
    "    for i in range(k-1,len(tsPrice)):\n",
    "        Sma[i]=sum(tsPrice[(i-k+1):(i+1)])/k\n",
    "    return Sma"
   ]
  },
  {
   "cell_type": "code",
   "execution_count": 3,
   "id": "86fee3a3",
   "metadata": {},
   "outputs": [
    {
     "data": {
      "text/html": [
       "<div>\n",
       "<style scoped>\n",
       "    .dataframe tbody tr th:only-of-type {\n",
       "        vertical-align: middle;\n",
       "    }\n",
       "\n",
       "    .dataframe tbody tr th {\n",
       "        vertical-align: top;\n",
       "    }\n",
       "\n",
       "    .dataframe thead th {\n",
       "        text-align: right;\n",
       "    }\n",
       "</style>\n",
       "<table border=\"1\" class=\"dataframe\">\n",
       "  <thead>\n",
       "    <tr style=\"text-align: right;\">\n",
       "      <th></th>\n",
       "      <th>ts_code</th>\n",
       "      <th>hs_type</th>\n",
       "      <th>in_date</th>\n",
       "      <th>out_date</th>\n",
       "      <th>is_new</th>\n",
       "    </tr>\n",
       "  </thead>\n",
       "  <tbody>\n",
       "    <tr>\n",
       "      <th>0</th>\n",
       "      <td>002910.SZ</td>\n",
       "      <td>SZ</td>\n",
       "      <td>20171114</td>\n",
       "      <td>None</td>\n",
       "      <td>1</td>\n",
       "    </tr>\n",
       "    <tr>\n",
       "      <th>1</th>\n",
       "      <td>000016.SZ</td>\n",
       "      <td>SZ</td>\n",
       "      <td>20180102</td>\n",
       "      <td>None</td>\n",
       "      <td>1</td>\n",
       "    </tr>\n",
       "    <tr>\n",
       "      <th>2</th>\n",
       "      <td>001872.SZ</td>\n",
       "      <td>SZ</td>\n",
       "      <td>20180102</td>\n",
       "      <td>None</td>\n",
       "      <td>1</td>\n",
       "    </tr>\n",
       "    <tr>\n",
       "      <th>3</th>\n",
       "      <td>000040.SZ</td>\n",
       "      <td>SZ</td>\n",
       "      <td>20180102</td>\n",
       "      <td>None</td>\n",
       "      <td>1</td>\n",
       "    </tr>\n",
       "    <tr>\n",
       "      <th>4</th>\n",
       "      <td>000401.SZ</td>\n",
       "      <td>SZ</td>\n",
       "      <td>20180102</td>\n",
       "      <td>None</td>\n",
       "      <td>1</td>\n",
       "    </tr>\n",
       "    <tr>\n",
       "      <th>...</th>\n",
       "      <td>...</td>\n",
       "      <td>...</td>\n",
       "      <td>...</td>\n",
       "      <td>...</td>\n",
       "      <td>...</td>\n",
       "    </tr>\n",
       "    <tr>\n",
       "      <th>237</th>\n",
       "      <td>300723.SZ</td>\n",
       "      <td>SZ</td>\n",
       "      <td>20191216</td>\n",
       "      <td>None</td>\n",
       "      <td>1</td>\n",
       "    </tr>\n",
       "    <tr>\n",
       "      <th>238</th>\n",
       "      <td>300751.SZ</td>\n",
       "      <td>SZ</td>\n",
       "      <td>20191216</td>\n",
       "      <td>None</td>\n",
       "      <td>1</td>\n",
       "    </tr>\n",
       "    <tr>\n",
       "      <th>239</th>\n",
       "      <td>300755.SZ</td>\n",
       "      <td>SZ</td>\n",
       "      <td>20191216</td>\n",
       "      <td>None</td>\n",
       "      <td>1</td>\n",
       "    </tr>\n",
       "    <tr>\n",
       "      <th>240</th>\n",
       "      <td>300759.SZ</td>\n",
       "      <td>SZ</td>\n",
       "      <td>20191223</td>\n",
       "      <td>None</td>\n",
       "      <td>1</td>\n",
       "    </tr>\n",
       "    <tr>\n",
       "      <th>241</th>\n",
       "      <td>300761.SZ</td>\n",
       "      <td>SZ</td>\n",
       "      <td>20191216</td>\n",
       "      <td>None</td>\n",
       "      <td>1</td>\n",
       "    </tr>\n",
       "  </tbody>\n",
       "</table>\n",
       "<p>242 rows × 5 columns</p>\n",
       "</div>"
      ],
      "text/plain": [
       "       ts_code hs_type   in_date out_date is_new\n",
       "0    002910.SZ      SZ  20171114     None      1\n",
       "1    000016.SZ      SZ  20180102     None      1\n",
       "2    001872.SZ      SZ  20180102     None      1\n",
       "3    000040.SZ      SZ  20180102     None      1\n",
       "4    000401.SZ      SZ  20180102     None      1\n",
       "..         ...     ...       ...      ...    ...\n",
       "237  300723.SZ      SZ  20191216     None      1\n",
       "238  300751.SZ      SZ  20191216     None      1\n",
       "239  300755.SZ      SZ  20191216     None      1\n",
       "240  300759.SZ      SZ  20191223     None      1\n",
       "241  300761.SZ      SZ  20191216     None      1\n",
       "\n",
       "[242 rows x 5 columns]"
      ]
     },
     "execution_count": 3,
     "metadata": {},
     "output_type": "execute_result"
    }
   ],
   "source": [
    "sgt_ts_code"
   ]
  },
  {
   "cell_type": "code",
   "execution_count": 24,
   "id": "c4e00c7a",
   "metadata": {},
   "outputs": [],
   "source": [
    "def smaCal_low(tsPrice,tsPrice_low,k): #过去的收盘价和当天最低价计算简单平均\n",
    "    Sma_low = pd.Series(0.0,index=tsPrice.index)\n",
    "    for i in range(k-1,len(tsPrice)):\n",
    "        Sma_low[i]=sum(tsPrice[(i-k+1):i]+tsPrice_low[i])/k\n",
    "    return Sma_low"
   ]
  },
  {
   "cell_type": "code",
   "execution_count": 25,
   "id": "0eff4e34",
   "metadata": {},
   "outputs": [],
   "source": [
    "def smaCal_low(tsPrice,tsPrice_high,k): #过去的收盘价和当天最高价计算简单平均\n",
    "    Sma_high = pd.Series(0.0,index=tsPrice.index)\n",
    "    for i in range(k-1,len(tsPrice)):\n",
    "        Sma_high[i]=sum(tsPrice[(i-k+1):i]+tsPrice_high[i])/k\n",
    "    return Sma_high"
   ]
  },
  {
   "cell_type": "code",
   "execution_count": 26,
   "id": "2497626b",
   "metadata": {},
   "outputs": [],
   "source": [
    "def ewmaCal(tsPrice,period=5,exp=0.2):#加权指数平均\n",
    "    Ewma = pd.Series(0.0,index=tsPrice.index)\n",
    "    Ewma[period-1]=np.mean(tsPrice[:period])\n",
    "    for i in range(period,len(tsPrice)):\n",
    "        Ewma=exp*tsPrice[i]+(1-exp)*Ewma[i-1]\n",
    "    return Ewma"
   ]
  },
  {
   "cell_type": "code",
   "execution_count": 27,
   "id": "10612e6e",
   "metadata": {},
   "outputs": [],
   "source": [
    "def macdCal(tsPrice):#MACD\n",
    "    DIF = ewmaCal(tsPrice,12,2/(1+12))-ewmaCal(tsPrice,26,2/(1+26))\n",
    "    DEA = ewmaCal(DIF,9,2/1+9)\n",
    "    MACD = DIF-DEA\n",
    "    return DIF,DEA,MACD"
   ]
  },
  {
   "cell_type": "code",
   "execution_count": 28,
   "id": "c245eb95",
   "metadata": {},
   "outputs": [],
   "source": [
    "def BreakPoint(tsPrice,kS,kL):\n",
    "    bp = pd.Series(0.0,index=tsPrice.index)\n",
    "    for i in range(kL-1,len(tsPrice)): \n",
    "        bp[i]=sum(tsPrice[i-kL+1:i-kS+1])-sum(tsPrice[i-kS+1:i])\n",
    "    return bp                 "
   ]
  },
  {
   "cell_type": "code",
   "execution_count": 29,
   "id": "ae86f8ed",
   "metadata": {},
   "outputs": [],
   "source": [
    "def smaSignal(SmaS,SmaL,price_low,price_high,BreakPoint):\n",
    "    Signal = pd.Series(0.0,index=SmaS.index)\n",
    "    for i in range(1,len(SmaS)):       \n",
    "        #if SmaS[i-1] < SmaL[i-1] and BreakPoint[i] >= price_low[i] and BreakPoint[i] <= price_high[i] :#盘中突破\n",
    "        if SmaS[i-1] < SmaL[i-1] and SmaS[i] > SmaL[i] :#收盘突破\n",
    "            Signal[i] = 1\n",
    "        elif SmaS[i-1] < SmaL[i-1] and BreakPoint[i] < price_low[i] :#高开过突破点\n",
    "            Signal[i] = 2\n",
    "        elif SmaS[i-1] > SmaL[i-1] and BreakPoint[i] >= price_low[i] and BreakPoint[i] <= price_high[i] :#盘中突破\n",
    "            Signal[i] = -1\n",
    "        elif SmaS[i-1] > SmaL[i-1] and BreakPoint[i] > price_high[i] :#低开过突破点\n",
    "            Signal[i] = -2    \n",
    "    return Signal     "
   ]
  },
  {
   "cell_type": "code",
   "execution_count": 30,
   "id": "91c0b4c6",
   "metadata": {},
   "outputs": [],
   "source": [
    "def trade_sim(signal,bp,cash_init,price_low):\n",
    "    cash = cash_init ;\n",
    "    position = 0 \n",
    "    share = 0 \n",
    "    value = 0\n",
    "    num = 0 \n",
    "    for i in range(1,len(signal)):\n",
    "        if position == 0 and signal[i] == 1:     #收盘买\n",
    "            share = int(cash/bp[i]/100)\n",
    "            cash = cash - share*bp[i]*100\n",
    "            value = cash + bp[i]*share*100\n",
    "            #print(bp[i],share*100,cash,value,num)\n",
    "            position = 1\n",
    "        elif position == 1 and signal[i] == -1:#收盘卖\n",
    "            cash = cash + share*bp[i]*100            \n",
    "            share = 0\n",
    "            value = cash + share*bp[i]*100\n",
    "            #print(bp[i],share*100,cash,value,num)\n",
    "            position = 0\n",
    "            num = num + 1\n",
    "        elif position == 1 and signal[i] == -2:#开盘卖\n",
    "            cash = cash + share*price_low[i]*100            \n",
    "            share = 0\n",
    "            value = cash + share*price_low[i]*100\n",
    "            #print(price_high[i],share*100,cash,value,num)\n",
    "            position = 0\n",
    "            num = num + 1\n",
    "    return value"
   ]
  },
  {
   "cell_type": "code",
   "execution_count": null,
   "id": "c58baaef",
   "metadata": {},
   "outputs": [
    {
     "name": "stdout",
     "output_type": "stream",
     "text": [
      "002910.SZ 12.005518990000043\n",
      "000016.SZ 168.83819348000003\n",
      "001872.SZ 12.05078263000004\n",
      "000040.SZ 96.92224184000005\n",
      "000401.SZ 60.424914060000106\n",
      "000429.SZ 28.41707554000012\n",
      "000553.SZ 20.814500130000063\n",
      "000560.SZ 63.660466189999944\n",
      "000710.SZ 199.9436700000001\n",
      "000723.SZ 243.61913527999994\n",
      "000951.SZ 295.9017910000001\n",
      "000968.SZ 78.90175509000001\n",
      "002061.SZ 34.83787359999996\n",
      "002507.SZ 141.00434720999976\n",
      "002530.SZ 121.7534949000004\n",
      "002537.SZ 58.488126609999945\n",
      "002545.SZ 59.62802688000009\n",
      "002611.SZ 359.9559895899999\n",
      "002648.SZ 293.7132287499985\n",
      "002747.SZ 192.29656540000005\n",
      "002812.SZ 92.47322640999991\n",
      "002839.SZ 3.414504460000016\n",
      "002841.SZ 5.7551144300000265\n"
     ]
    }
   ],
   "source": [
    "ts_sum = 0\n",
    "win_rate = 0 \n",
    "for ts_code in sgt_ts_code.ts_code:\n",
    "    Unicom_data_trade = ts.pro_bar(ts_code=ts_code, adj='qfq', start_date=trade_start_date, end_date=trade_end_date)\n",
    "    #倒序\n",
    "    Unicom_data_trade=Unicom_data_trade.iloc[::-1]\n",
    "    Unicom_data_trade.index=range(len(Unicom_data_trade))\n",
    "    Sma5=smaCal(Unicom_data_trade.close,5)\n",
    "    Sma10=smaCal(Unicom_data_trade.close,10)\n",
    "    bp=BreakPoint(Unicom_data_trade.close,5,10)\n",
    "    signal = smaSignal(Sma5,Sma10,Unicom_data_trade.low,Unicom_data_trade.high,bp)\n",
    "    value = trade_sim(signal,bp,1000000,Unicom_data_trade.low)\n",
    "    print(ts_code,(value-1000000)/1000000)\n",
    "    win_rate = win_rate + (value-1000000)/1000000\n",
    "    ts_sum = ts_sum + 1"
   ]
  },
  {
   "cell_type": "code",
   "execution_count": 19,
   "id": "43819616",
   "metadata": {},
   "outputs": [
    {
     "data": {
      "text/plain": [
       "207.9678337700002"
      ]
     },
     "execution_count": 19,
     "metadata": {},
     "output_type": "execute_result"
    }
   ],
   "source": [
    "win_rate"
   ]
  },
  {
   "cell_type": "code",
   "execution_count": 20,
   "id": "c3165971",
   "metadata": {},
   "outputs": [
    {
     "data": {
      "text/plain": [
       "242"
      ]
     },
     "execution_count": 20,
     "metadata": {},
     "output_type": "execute_result"
    }
   ],
   "source": [
    "ts_sum"
   ]
  },
  {
   "cell_type": "code",
   "execution_count": 15,
   "id": "58830fff",
   "metadata": {},
   "outputs": [
    {
     "data": {
      "text/plain": [
       "0.7046162372289155"
      ]
     },
     "execution_count": 15,
     "metadata": {},
     "output_type": "execute_result"
    }
   ],
   "source": [
    "win_rate/ts_sum"
   ]
  },
  {
   "cell_type": "code",
   "execution_count": null,
   "id": "91a2d6d3",
   "metadata": {},
   "outputs": [],
   "source": []
  }
 ],
 "metadata": {
  "kernelspec": {
   "display_name": "Python 3 (ipykernel)",
   "language": "python",
   "name": "python3"
  },
  "language_info": {
   "codemirror_mode": {
    "name": "ipython",
    "version": 3
   },
   "file_extension": ".py",
   "mimetype": "text/x-python",
   "name": "python",
   "nbconvert_exporter": "python",
   "pygments_lexer": "ipython3",
   "version": "3.9.7"
  }
 },
 "nbformat": 4,
 "nbformat_minor": 5
}
